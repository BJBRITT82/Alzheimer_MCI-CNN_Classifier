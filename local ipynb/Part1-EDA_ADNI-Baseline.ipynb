{
 "cells": [
  {
   "cell_type": "markdown",
   "metadata": {},
   "source": [
    "# Alzheimer & MCI DeepLearning(CNN) Classifier\n",
    "- ADNI MRI 이미지로 알츠하이머와 경도인지장애를 분류하는 딥러닝 프로젝트\n",
    "- 데이터 출처\n",
    "  - 메타데이터 : https://ida.loni.usc.edu/\n",
    "  - MRI이미지 : https://www.kaggle.com/datasets/katalniraj/adni-extracted-axial\n",
    "- 저작권에 의해 데이터는 깃허브에 업로드 하지 않았음"
   ]
  },
  {
   "cell_type": "markdown",
   "metadata": {},
   "source": [
    "## Part1. EDA(탐색적 데이터 분석) & Dashboard 데이터 생성\n",
    "- 본 작업은 로컬환경(VScode)에서 진행되었음.\n",
    "- 로컬 가상 환경(Conda)\n",
    "  - OS : Windows11\n",
    "  - Python version : 3.9\n",
    "  - Packages : requirments.txt로 설치하여 진행하였음\n",
    "  - Tensorflow version : 2.7"
   ]
  },
  {
   "cell_type": "code",
   "execution_count": 20,
   "metadata": {},
   "outputs": [],
   "source": [
    "import os\n",
    "import re\n",
    "import numpy as np\n",
    "import pandas as pd\n",
    "import matplotlib.pyplot as plt\n",
    "plt.rcParams['axes.unicode_minus'] = False\n",
    "import plotly.express as plex\n",
    "import plotly.graph_objects as go"
   ]
  },
  {
   "cell_type": "markdown",
   "metadata": {},
   "source": [
    "### 1-1. 메타데이터 DataFrame 생성"
   ]
  },
  {
   "cell_type": "markdown",
   "metadata": {},
   "source": [
    "- 데이터 불러오기"
   ]
  },
  {
   "cell_type": "code",
   "execution_count": 2,
   "metadata": {},
   "outputs": [
    {
     "data": {
      "text/html": [
       "<div>\n",
       "<style scoped>\n",
       "    .dataframe tbody tr th:only-of-type {\n",
       "        vertical-align: middle;\n",
       "    }\n",
       "\n",
       "    .dataframe tbody tr th {\n",
       "        vertical-align: top;\n",
       "    }\n",
       "\n",
       "    .dataframe thead th {\n",
       "        text-align: right;\n",
       "    }\n",
       "</style>\n",
       "<table border=\"1\" class=\"dataframe\">\n",
       "  <thead>\n",
       "    <tr style=\"text-align: right;\">\n",
       "      <th></th>\n",
       "      <th>Subject ID</th>\n",
       "      <th>Sex</th>\n",
       "      <th>Research Group</th>\n",
       "      <th>Age</th>\n",
       "      <th>Description</th>\n",
       "    </tr>\n",
       "  </thead>\n",
       "  <tbody>\n",
       "    <tr>\n",
       "      <th>907</th>\n",
       "      <td>067_S_0607</td>\n",
       "      <td>F</td>\n",
       "      <td>MCI</td>\n",
       "      <td>78.3</td>\n",
       "      <td>localizer</td>\n",
       "    </tr>\n",
       "    <tr>\n",
       "      <th>617</th>\n",
       "      <td>031_S_0830</td>\n",
       "      <td>M</td>\n",
       "      <td>MCI</td>\n",
       "      <td>70.9</td>\n",
       "      <td>B1-calibration Body</td>\n",
       "    </tr>\n",
       "    <tr>\n",
       "      <th>1386</th>\n",
       "      <td>133_S_0792</td>\n",
       "      <td>M</td>\n",
       "      <td>MCI</td>\n",
       "      <td>73.7</td>\n",
       "      <td>Circle Scout</td>\n",
       "    </tr>\n",
       "    <tr>\n",
       "      <th>941</th>\n",
       "      <td>067_S_1253</td>\n",
       "      <td>F</td>\n",
       "      <td>AD</td>\n",
       "      <td>62.8</td>\n",
       "      <td>localizer</td>\n",
       "    </tr>\n",
       "    <tr>\n",
       "      <th>303</th>\n",
       "      <td>018_S_0450</td>\n",
       "      <td>M</td>\n",
       "      <td>MCI</td>\n",
       "      <td>68.7</td>\n",
       "      <td>MPRAGE</td>\n",
       "    </tr>\n",
       "  </tbody>\n",
       "</table>\n",
       "</div>"
      ],
      "text/plain": [
       "      Subject ID Sex Research Group   Age          Description\n",
       "907   067_S_0607   F            MCI  78.3            localizer\n",
       "617   031_S_0830   M            MCI  70.9  B1-calibration Body\n",
       "1386  133_S_0792   M            MCI  73.7         Circle Scout\n",
       "941   067_S_1253   F             AD  62.8            localizer\n",
       "303   018_S_0450   M            MCI  68.7               MPRAGE"
      ]
     },
     "execution_count": 2,
     "metadata": {},
     "output_type": "execute_result"
    }
   ],
   "source": [
    "df0 = pd.read_csv('metadata/ADNI-Baseline-meta.csv')\n",
    "df0.sample(5, random_state=42)"
   ]
  },
  {
   "cell_type": "markdown",
   "metadata": {},
   "source": [
    "- 필요없는 Column (\"Description\") 제외"
   ]
  },
  {
   "cell_type": "code",
   "execution_count": 3,
   "metadata": {},
   "outputs": [
    {
     "data": {
      "text/html": [
       "<div>\n",
       "<style scoped>\n",
       "    .dataframe tbody tr th:only-of-type {\n",
       "        vertical-align: middle;\n",
       "    }\n",
       "\n",
       "    .dataframe tbody tr th {\n",
       "        vertical-align: top;\n",
       "    }\n",
       "\n",
       "    .dataframe thead th {\n",
       "        text-align: right;\n",
       "    }\n",
       "</style>\n",
       "<table border=\"1\" class=\"dataframe\">\n",
       "  <thead>\n",
       "    <tr style=\"text-align: right;\">\n",
       "      <th></th>\n",
       "      <th>Subject ID</th>\n",
       "      <th>Sex</th>\n",
       "      <th>Research Group</th>\n",
       "      <th>Age</th>\n",
       "    </tr>\n",
       "  </thead>\n",
       "  <tbody>\n",
       "    <tr>\n",
       "      <th>907</th>\n",
       "      <td>067_S_0607</td>\n",
       "      <td>F</td>\n",
       "      <td>MCI</td>\n",
       "      <td>78.3</td>\n",
       "    </tr>\n",
       "    <tr>\n",
       "      <th>617</th>\n",
       "      <td>031_S_0830</td>\n",
       "      <td>M</td>\n",
       "      <td>MCI</td>\n",
       "      <td>70.9</td>\n",
       "    </tr>\n",
       "    <tr>\n",
       "      <th>1386</th>\n",
       "      <td>133_S_0792</td>\n",
       "      <td>M</td>\n",
       "      <td>MCI</td>\n",
       "      <td>73.7</td>\n",
       "    </tr>\n",
       "    <tr>\n",
       "      <th>941</th>\n",
       "      <td>067_S_1253</td>\n",
       "      <td>F</td>\n",
       "      <td>AD</td>\n",
       "      <td>62.8</td>\n",
       "    </tr>\n",
       "    <tr>\n",
       "      <th>303</th>\n",
       "      <td>018_S_0450</td>\n",
       "      <td>M</td>\n",
       "      <td>MCI</td>\n",
       "      <td>68.7</td>\n",
       "    </tr>\n",
       "  </tbody>\n",
       "</table>\n",
       "</div>"
      ],
      "text/plain": [
       "      Subject ID Sex Research Group   Age\n",
       "907   067_S_0607   F            MCI  78.3\n",
       "617   031_S_0830   M            MCI  70.9\n",
       "1386  133_S_0792   M            MCI  73.7\n",
       "941   067_S_1253   F             AD  62.8\n",
       "303   018_S_0450   M            MCI  68.7"
      ]
     },
     "execution_count": 3,
     "metadata": {},
     "output_type": "execute_result"
    }
   ],
   "source": [
    "df1 = df0.iloc[:,:-1]\n",
    "df1.sample(5, random_state=42)"
   ]
  },
  {
   "cell_type": "markdown",
   "metadata": {},
   "source": [
    "- Shape 확인"
   ]
  },
  {
   "cell_type": "code",
   "execution_count": 4,
   "metadata": {},
   "outputs": [
    {
     "data": {
      "text/plain": [
       "(1512, 4)"
      ]
     },
     "execution_count": 4,
     "metadata": {},
     "output_type": "execute_result"
    }
   ],
   "source": [
    "df1.shape"
   ]
  },
  {
   "cell_type": "markdown",
   "metadata": {},
   "source": [
    "- Column 이름 변경 및 결측치 확인"
   ]
  },
  {
   "cell_type": "code",
   "execution_count": 7,
   "metadata": {},
   "outputs": [
    {
     "name": "stdout",
     "output_type": "stream",
     "text": [
      "<class 'pandas.core.frame.DataFrame'>\n",
      "RangeIndex: 1512 entries, 0 to 1511\n",
      "Data columns (total 4 columns):\n",
      " #   Column  Non-Null Count  Dtype  \n",
      "---  ------  --------------  -----  \n",
      " 0   ID      1512 non-null   object \n",
      " 1   Gender  1512 non-null   object \n",
      " 2   Group   1512 non-null   object \n",
      " 3   Age     1512 non-null   float64\n",
      "dtypes: float64(1), object(3)\n",
      "memory usage: 47.4+ KB\n"
     ]
    }
   ],
   "source": [
    "COLUMNS = ['ID', 'Gender', 'Group', 'Age']\n",
    "df1.columns = COLUMNS\n",
    "df1.info()"
   ]
  },
  {
   "cell_type": "markdown",
   "metadata": {},
   "source": [
    "- 중복치 확인 및 제거"
   ]
  },
  {
   "cell_type": "code",
   "execution_count": 8,
   "metadata": {},
   "outputs": [
    {
     "data": {
      "text/plain": [
       "1512"
      ]
     },
     "execution_count": 8,
     "metadata": {},
     "output_type": "execute_result"
    }
   ],
   "source": [
    "df1.duplicated(subset=COLUMNS, keep=False).sum()"
   ]
  },
  {
   "cell_type": "code",
   "execution_count": 9,
   "metadata": {},
   "outputs": [
    {
     "data": {
      "text/plain": [
       "(187, 4)"
      ]
     },
     "execution_count": 9,
     "metadata": {},
     "output_type": "execute_result"
    }
   ],
   "source": [
    "# 제거\n",
    "df2 = df1.copy()\n",
    "df2 = df2.drop_duplicates(subset=COLUMNS, keep='first')\n",
    "df2.shape"
   ]
  },
  {
   "cell_type": "markdown",
   "metadata": {},
   "source": [
    "- Age column 정수형으로 변환"
   ]
  },
  {
   "cell_type": "code",
   "execution_count": 10,
   "metadata": {},
   "outputs": [
    {
     "data": {
      "text/html": [
       "<div>\n",
       "<style scoped>\n",
       "    .dataframe tbody tr th:only-of-type {\n",
       "        vertical-align: middle;\n",
       "    }\n",
       "\n",
       "    .dataframe tbody tr th {\n",
       "        vertical-align: top;\n",
       "    }\n",
       "\n",
       "    .dataframe thead th {\n",
       "        text-align: right;\n",
       "    }\n",
       "</style>\n",
       "<table border=\"1\" class=\"dataframe\">\n",
       "  <thead>\n",
       "    <tr style=\"text-align: right;\">\n",
       "      <th></th>\n",
       "      <th>ID</th>\n",
       "      <th>Gender</th>\n",
       "      <th>Group</th>\n",
       "      <th>Age</th>\n",
       "    </tr>\n",
       "  </thead>\n",
       "  <tbody>\n",
       "    <tr>\n",
       "      <th>0</th>\n",
       "      <td>002_S_0413</td>\n",
       "      <td>F</td>\n",
       "      <td>CN</td>\n",
       "      <td>76</td>\n",
       "    </tr>\n",
       "    <tr>\n",
       "      <th>7</th>\n",
       "      <td>002_S_0559</td>\n",
       "      <td>M</td>\n",
       "      <td>CN</td>\n",
       "      <td>79</td>\n",
       "    </tr>\n",
       "    <tr>\n",
       "      <th>16</th>\n",
       "      <td>002_S_0729</td>\n",
       "      <td>F</td>\n",
       "      <td>MCI</td>\n",
       "      <td>65</td>\n",
       "    </tr>\n",
       "    <tr>\n",
       "      <th>23</th>\n",
       "      <td>002_S_0816</td>\n",
       "      <td>M</td>\n",
       "      <td>AD</td>\n",
       "      <td>71</td>\n",
       "    </tr>\n",
       "    <tr>\n",
       "      <th>29</th>\n",
       "      <td>002_S_0954</td>\n",
       "      <td>F</td>\n",
       "      <td>MCI</td>\n",
       "      <td>69</td>\n",
       "    </tr>\n",
       "  </tbody>\n",
       "</table>\n",
       "</div>"
      ],
      "text/plain": [
       "            ID Gender Group  Age\n",
       "0   002_S_0413      F    CN   76\n",
       "7   002_S_0559      M    CN   79\n",
       "16  002_S_0729      F   MCI   65\n",
       "23  002_S_0816      M    AD   71\n",
       "29  002_S_0954      F   MCI   69"
      ]
     },
     "execution_count": 10,
     "metadata": {},
     "output_type": "execute_result"
    }
   ],
   "source": [
    "df3 = df2.copy()\n",
    "df3.Age = df3.Age.astype(int)\n",
    "df3.head()"
   ]
  },
  {
   "cell_type": "markdown",
   "metadata": {},
   "source": [
    "- Age Range(나이대) column 추가"
   ]
  },
  {
   "cell_type": "code",
   "execution_count": 15,
   "metadata": {},
   "outputs": [
    {
     "data": {
      "text/html": [
       "<div>\n",
       "<style scoped>\n",
       "    .dataframe tbody tr th:only-of-type {\n",
       "        vertical-align: middle;\n",
       "    }\n",
       "\n",
       "    .dataframe tbody tr th {\n",
       "        vertical-align: top;\n",
       "    }\n",
       "\n",
       "    .dataframe thead th {\n",
       "        text-align: right;\n",
       "    }\n",
       "</style>\n",
       "<table border=\"1\" class=\"dataframe\">\n",
       "  <thead>\n",
       "    <tr style=\"text-align: right;\">\n",
       "      <th></th>\n",
       "      <th>ID</th>\n",
       "      <th>Gender</th>\n",
       "      <th>Group</th>\n",
       "      <th>Age</th>\n",
       "      <th>Age_Range</th>\n",
       "    </tr>\n",
       "  </thead>\n",
       "  <tbody>\n",
       "    <tr>\n",
       "      <th>0</th>\n",
       "      <td>002_S_0413</td>\n",
       "      <td>F</td>\n",
       "      <td>CN</td>\n",
       "      <td>76</td>\n",
       "      <td>70s</td>\n",
       "    </tr>\n",
       "    <tr>\n",
       "      <th>7</th>\n",
       "      <td>002_S_0559</td>\n",
       "      <td>M</td>\n",
       "      <td>CN</td>\n",
       "      <td>79</td>\n",
       "      <td>70s</td>\n",
       "    </tr>\n",
       "    <tr>\n",
       "      <th>16</th>\n",
       "      <td>002_S_0729</td>\n",
       "      <td>F</td>\n",
       "      <td>MCI</td>\n",
       "      <td>65</td>\n",
       "      <td>60s</td>\n",
       "    </tr>\n",
       "    <tr>\n",
       "      <th>23</th>\n",
       "      <td>002_S_0816</td>\n",
       "      <td>M</td>\n",
       "      <td>AD</td>\n",
       "      <td>71</td>\n",
       "      <td>70s</td>\n",
       "    </tr>\n",
       "    <tr>\n",
       "      <th>29</th>\n",
       "      <td>002_S_0954</td>\n",
       "      <td>F</td>\n",
       "      <td>MCI</td>\n",
       "      <td>69</td>\n",
       "      <td>60s</td>\n",
       "    </tr>\n",
       "  </tbody>\n",
       "</table>\n",
       "</div>"
      ],
      "text/plain": [
       "            ID Gender Group  Age Age_Range\n",
       "0   002_S_0413      F    CN   76       70s\n",
       "7   002_S_0559      M    CN   79       70s\n",
       "16  002_S_0729      F   MCI   65       60s\n",
       "23  002_S_0816      M    AD   71       70s\n",
       "29  002_S_0954      F   MCI   69       60s"
      ]
     },
     "execution_count": 15,
     "metadata": {},
     "output_type": "execute_result"
    }
   ],
   "source": [
    "age_range = []\n",
    "for i in df3.Age:\n",
    "    if 50 <= i < 60:\n",
    "        age_range.append('50s')\n",
    "    elif 60 <= i < 70:\n",
    "        age_range.append('60s')\n",
    "    elif 70 <= i < 80:\n",
    "        age_range.append('70s')\n",
    "    elif 80 <= i < 90:\n",
    "        age_range.append('80s')\n",
    "    elif 90 <= i < 100:\n",
    "        age_range.append('90s')\n",
    "df4 = df3.copy()\n",
    "df4['Age_Range'] = age_range\n",
    "df4.head()"
   ]
  },
  {
   "cell_type": "markdown",
   "metadata": {},
   "source": [
    "### 1-2. ImageData Count 및 Merge DataFrames"
   ]
  },
  {
   "cell_type": "markdown",
   "metadata": {},
   "source": [
    "- 이미지 데이터 파일명 리스트 생성"
   ]
  },
  {
   "cell_type": "code",
   "execution_count": 16,
   "metadata": {},
   "outputs": [],
   "source": [
    "#파일 경로 지정\n",
    "base_dir = \"./imagedata/Axial/\"\n",
    "\n",
    "CN_dir = base_dir + \"CN\"\n",
    "MCI_dir = base_dir + \"MCI\"\n",
    "AD_dir = base_dir + \"AD\""
   ]
  },
  {
   "cell_type": "code",
   "execution_count": 19,
   "metadata": {},
   "outputs": [
    {
     "data": {
      "text/plain": [
       "['CN002_S_0413a084.png',\n",
       " 'CN002_S_0413a085.png',\n",
       " 'CN002_S_0413a086.png',\n",
       " 'CN002_S_0413a087.png',\n",
       " 'CN002_S_0413a088.png']"
      ]
     },
     "execution_count": 19,
     "metadata": {},
     "output_type": "execute_result"
    }
   ],
   "source": [
    "# CN 폴더 이미지 파일명 리스트\n",
    "CN_files = os.listdir(CN_dir)\n",
    "CN_files[:5]"
   ]
  },
  {
   "cell_type": "code",
   "execution_count": 45,
   "metadata": {},
   "outputs": [
    {
     "data": {
      "text/plain": [
       "['002_S_0413', '002_S_0413', '002_S_0413', '002_S_0413', '002_S_0413']"
      ]
     },
     "execution_count": 45,
     "metadata": {},
     "output_type": "execute_result"
    }
   ],
   "source": [
    "# 정규식을 이용해 subject_ID만 추출해보기\n",
    "CN_extracted = []\n",
    "for i in CN_files:\n",
    "    ext = re.search(\"((\\d{3})_(\\D)_(\\d{4}))\",i)\n",
    "    CN_extracted.append(ext.group())\n",
    "CN_extracted[:5]"
   ]
  },
  {
   "cell_type": "code",
   "execution_count": 48,
   "metadata": {},
   "outputs": [],
   "source": [
    "# Subject_ID만 추출하는 함수 정의\n",
    "def filename_to_ID(dir):\n",
    "    filenames = os.listdir(dir)\n",
    "    \n",
    "    extracted_list = []\n",
    "    \n",
    "    for f in filenames:\n",
    "        ex = re.search(\"((\\d{3})_(\\D)_(\\d{4}))\",f)\n",
    "        extracted_list.append(ex.group())\n",
    "    \n",
    "    return extracted_list"
   ]
  },
  {
   "cell_type": "code",
   "execution_count": 72,
   "metadata": {},
   "outputs": [
    {
     "name": "stdout",
     "output_type": "stream",
     "text": [
      "첫번째 이미지 ID\n",
      "CN : 002_S_0413\n",
      "MCI : 002_S_0729\n",
      "AD : 002_S_0816\n",
      "---\n",
      "리스트 길이\n",
      "CN : 1440\n",
      "MCI : 2590\n",
      "AD : 1124\n"
     ]
    }
   ],
   "source": [
    "# Subject_ID 추출\n",
    "CN_img_id = filename_to_ID(CN_dir)\n",
    "MCI_img_id = filename_to_ID(MCI_dir)\n",
    "AD_img_id = filename_to_ID(AD_dir)\n",
    "\n",
    "print('첫번째 이미지 ID')\n",
    "print(\"CN :\", CN_img_id[0])\n",
    "print(\"MCI :\", MCI_img_id[0])\n",
    "print(\"AD :\", AD_img_id[0])\n",
    "print('---')\n",
    "print('리스트 길이')\n",
    "print(\"CN :\", len(CN_img_id))\n",
    "print(\"MCI :\", len(MCI_img_id))\n",
    "print(\"AD :\", len(AD_img_id))"
   ]
  },
  {
   "cell_type": "markdown",
   "metadata": {},
   "source": [
    "- 이미지 데이터 DataFrame 생성"
   ]
  },
  {
   "cell_type": "code",
   "execution_count": 73,
   "metadata": {},
   "outputs": [
    {
     "data": {
      "text/plain": [
       "5154"
      ]
     },
     "execution_count": 73,
     "metadata": {},
     "output_type": "execute_result"
    }
   ],
   "source": [
    "# 리스트 결합\n",
    "Image_IDs = CN_img_id+MCI_img_id+AD_img_id\n",
    "len(Image_IDs)"
   ]
  },
  {
   "cell_type": "code",
   "execution_count": 74,
   "metadata": {},
   "outputs": [
    {
     "data": {
      "text/plain": [
       "0       002_S_0413\n",
       "1       002_S_0413\n",
       "2       002_S_0413\n",
       "3       002_S_0413\n",
       "4       002_S_0413\n",
       "           ...    \n",
       "5149    136_S_0426\n",
       "5150    136_S_0426\n",
       "5151    136_S_0426\n",
       "5152    136_S_0426\n",
       "5153    136_S_0426\n",
       "Name: ID, Length: 5154, dtype: object"
      ]
     },
     "execution_count": 74,
     "metadata": {},
     "output_type": "execute_result"
    }
   ],
   "source": [
    "# Series 생성\n",
    "image_se = pd.Series(Image_IDs, name='ID')\n",
    "image_se"
   ]
  },
  {
   "cell_type": "code",
   "execution_count": 78,
   "metadata": {},
   "outputs": [
    {
     "data": {
      "text/html": [
       "<div>\n",
       "<style scoped>\n",
       "    .dataframe tbody tr th:only-of-type {\n",
       "        vertical-align: middle;\n",
       "    }\n",
       "\n",
       "    .dataframe tbody tr th {\n",
       "        vertical-align: top;\n",
       "    }\n",
       "\n",
       "    .dataframe thead th {\n",
       "        text-align: right;\n",
       "    }\n",
       "</style>\n",
       "<table border=\"1\" class=\"dataframe\">\n",
       "  <thead>\n",
       "    <tr style=\"text-align: right;\">\n",
       "      <th></th>\n",
       "      <th>ID</th>\n",
       "      <th>Images</th>\n",
       "    </tr>\n",
       "  </thead>\n",
       "  <tbody>\n",
       "    <tr>\n",
       "      <th>73</th>\n",
       "      <td>027_S_1385</td>\n",
       "      <td>30</td>\n",
       "    </tr>\n",
       "    <tr>\n",
       "      <th>18</th>\n",
       "      <td>023_S_0855</td>\n",
       "      <td>61</td>\n",
       "    </tr>\n",
       "    <tr>\n",
       "      <th>117</th>\n",
       "      <td>067_S_0812</td>\n",
       "      <td>19</td>\n",
       "    </tr>\n",
       "    <tr>\n",
       "      <th>78</th>\n",
       "      <td>027_S_0835</td>\n",
       "      <td>29</td>\n",
       "    </tr>\n",
       "    <tr>\n",
       "      <th>76</th>\n",
       "      <td>016_S_1117</td>\n",
       "      <td>29</td>\n",
       "    </tr>\n",
       "  </tbody>\n",
       "</table>\n",
       "</div>"
      ],
      "text/plain": [
       "             ID  Images\n",
       "73   027_S_1385      30\n",
       "18   023_S_0855      61\n",
       "117  067_S_0812      19\n",
       "78   027_S_0835      29\n",
       "76   016_S_1117      29"
      ]
     },
     "execution_count": 78,
     "metadata": {},
     "output_type": "execute_result"
    }
   ],
   "source": [
    "# ID별 Count\n",
    "image_count = image_se.value_counts().reset_index(drop=False)\n",
    "image_count.columns = ['ID','Images']\n",
    "image_count.sample(5,random_state=42)"
   ]
  },
  {
   "cell_type": "markdown",
   "metadata": {},
   "source": [
    "- Merge Data"
   ]
  },
  {
   "cell_type": "code",
   "execution_count": 83,
   "metadata": {},
   "outputs": [
    {
     "data": {
      "text/html": [
       "<div>\n",
       "<style scoped>\n",
       "    .dataframe tbody tr th:only-of-type {\n",
       "        vertical-align: middle;\n",
       "    }\n",
       "\n",
       "    .dataframe tbody tr th {\n",
       "        vertical-align: top;\n",
       "    }\n",
       "\n",
       "    .dataframe thead th {\n",
       "        text-align: right;\n",
       "    }\n",
       "</style>\n",
       "<table border=\"1\" class=\"dataframe\">\n",
       "  <thead>\n",
       "    <tr style=\"text-align: right;\">\n",
       "      <th></th>\n",
       "      <th>ID</th>\n",
       "      <th>Gender</th>\n",
       "      <th>Group</th>\n",
       "      <th>Age</th>\n",
       "      <th>Age_Range</th>\n",
       "      <th>Images</th>\n",
       "    </tr>\n",
       "  </thead>\n",
       "  <tbody>\n",
       "    <tr>\n",
       "      <th>0</th>\n",
       "      <td>002_S_0413</td>\n",
       "      <td>F</td>\n",
       "      <td>CN</td>\n",
       "      <td>76</td>\n",
       "      <td>70s</td>\n",
       "      <td>65.0</td>\n",
       "    </tr>\n",
       "    <tr>\n",
       "      <th>1</th>\n",
       "      <td>002_S_0559</td>\n",
       "      <td>M</td>\n",
       "      <td>CN</td>\n",
       "      <td>79</td>\n",
       "      <td>70s</td>\n",
       "      <td>46.0</td>\n",
       "    </tr>\n",
       "    <tr>\n",
       "      <th>2</th>\n",
       "      <td>002_S_0729</td>\n",
       "      <td>F</td>\n",
       "      <td>MCI</td>\n",
       "      <td>65</td>\n",
       "      <td>60s</td>\n",
       "      <td>82.0</td>\n",
       "    </tr>\n",
       "    <tr>\n",
       "      <th>3</th>\n",
       "      <td>002_S_0816</td>\n",
       "      <td>M</td>\n",
       "      <td>AD</td>\n",
       "      <td>71</td>\n",
       "      <td>70s</td>\n",
       "      <td>59.0</td>\n",
       "    </tr>\n",
       "    <tr>\n",
       "      <th>4</th>\n",
       "      <td>002_S_0954</td>\n",
       "      <td>F</td>\n",
       "      <td>MCI</td>\n",
       "      <td>69</td>\n",
       "      <td>60s</td>\n",
       "      <td>40.0</td>\n",
       "    </tr>\n",
       "  </tbody>\n",
       "</table>\n",
       "</div>"
      ],
      "text/plain": [
       "           ID Gender Group  Age Age_Range  Images\n",
       "0  002_S_0413      F    CN   76       70s    65.0\n",
       "1  002_S_0559      M    CN   79       70s    46.0\n",
       "2  002_S_0729      F   MCI   65       60s    82.0\n",
       "3  002_S_0816      M    AD   71       70s    59.0\n",
       "4  002_S_0954      F   MCI   69       60s    40.0"
      ]
     },
     "metadata": {},
     "output_type": "display_data"
    },
    {
     "name": "stdout",
     "output_type": "stream",
     "text": [
      "<class 'pandas.core.frame.DataFrame'>\n",
      "Int64Index: 187 entries, 0 to 186\n",
      "Data columns (total 6 columns):\n",
      " #   Column     Non-Null Count  Dtype  \n",
      "---  ------     --------------  -----  \n",
      " 0   ID         187 non-null    object \n",
      " 1   Gender     187 non-null    object \n",
      " 2   Group      187 non-null    object \n",
      " 3   Age        187 non-null    int32  \n",
      " 4   Age_Range  187 non-null    object \n",
      " 5   Images     149 non-null    float64\n",
      "dtypes: float64(1), int32(1), object(4)\n",
      "memory usage: 9.5+ KB\n"
     ]
    }
   ],
   "source": [
    "df5 = pd.merge(\n",
    "    left=df4,\n",
    "    right=image_count,\n",
    "    how='left',\n",
    "    on='ID'\n",
    ")\n",
    "display(df5.head())\n",
    "df5.info()"
   ]
  },
  {
   "cell_type": "code",
   "execution_count": 87,
   "metadata": {},
   "outputs": [
    {
     "data": {
      "text/html": [
       "<div>\n",
       "<style scoped>\n",
       "    .dataframe tbody tr th:only-of-type {\n",
       "        vertical-align: middle;\n",
       "    }\n",
       "\n",
       "    .dataframe tbody tr th {\n",
       "        vertical-align: top;\n",
       "    }\n",
       "\n",
       "    .dataframe thead th {\n",
       "        text-align: right;\n",
       "    }\n",
       "</style>\n",
       "<table border=\"1\" class=\"dataframe\">\n",
       "  <thead>\n",
       "    <tr style=\"text-align: right;\">\n",
       "      <th></th>\n",
       "      <th>ID</th>\n",
       "      <th>Gender</th>\n",
       "      <th>Group</th>\n",
       "      <th>Age</th>\n",
       "      <th>Age_Range</th>\n",
       "      <th>Images</th>\n",
       "    </tr>\n",
       "  </thead>\n",
       "  <tbody>\n",
       "    <tr>\n",
       "      <th>0</th>\n",
       "      <td>002_S_0413</td>\n",
       "      <td>F</td>\n",
       "      <td>CN</td>\n",
       "      <td>76</td>\n",
       "      <td>70s</td>\n",
       "      <td>65</td>\n",
       "    </tr>\n",
       "    <tr>\n",
       "      <th>1</th>\n",
       "      <td>002_S_0559</td>\n",
       "      <td>M</td>\n",
       "      <td>CN</td>\n",
       "      <td>79</td>\n",
       "      <td>70s</td>\n",
       "      <td>46</td>\n",
       "    </tr>\n",
       "    <tr>\n",
       "      <th>2</th>\n",
       "      <td>002_S_0729</td>\n",
       "      <td>F</td>\n",
       "      <td>MCI</td>\n",
       "      <td>65</td>\n",
       "      <td>60s</td>\n",
       "      <td>82</td>\n",
       "    </tr>\n",
       "    <tr>\n",
       "      <th>3</th>\n",
       "      <td>002_S_0816</td>\n",
       "      <td>M</td>\n",
       "      <td>AD</td>\n",
       "      <td>71</td>\n",
       "      <td>70s</td>\n",
       "      <td>59</td>\n",
       "    </tr>\n",
       "    <tr>\n",
       "      <th>4</th>\n",
       "      <td>002_S_0954</td>\n",
       "      <td>F</td>\n",
       "      <td>MCI</td>\n",
       "      <td>69</td>\n",
       "      <td>60s</td>\n",
       "      <td>40</td>\n",
       "    </tr>\n",
       "  </tbody>\n",
       "</table>\n",
       "</div>"
      ],
      "text/plain": [
       "           ID Gender Group  Age Age_Range  Images\n",
       "0  002_S_0413      F    CN   76       70s      65\n",
       "1  002_S_0559      M    CN   79       70s      46\n",
       "2  002_S_0729      F   MCI   65       60s      82\n",
       "3  002_S_0816      M    AD   71       70s      59\n",
       "4  002_S_0954      F   MCI   69       60s      40"
      ]
     },
     "metadata": {},
     "output_type": "display_data"
    },
    {
     "name": "stdout",
     "output_type": "stream",
     "text": [
      "<class 'pandas.core.frame.DataFrame'>\n",
      "Int64Index: 187 entries, 0 to 186\n",
      "Data columns (total 6 columns):\n",
      " #   Column     Non-Null Count  Dtype \n",
      "---  ------     --------------  ----- \n",
      " 0   ID         187 non-null    object\n",
      " 1   Gender     187 non-null    object\n",
      " 2   Group      187 non-null    object\n",
      " 3   Age        187 non-null    int32 \n",
      " 4   Age_Range  187 non-null    object\n",
      " 5   Images     187 non-null    int32 \n",
      "dtypes: int32(2), object(4)\n",
      "memory usage: 8.8+ KB\n"
     ]
    }
   ],
   "source": [
    "# Images column Nan 값 0으로 대체 후 정수형으로 변환\n",
    "df6 = df5.copy()\n",
    "df6 = df6.fillna(0)\n",
    "df6.Images = df6.Images.astype(int)\n",
    "display(df6.head())\n",
    "df6.info()"
   ]
  },
  {
   "cell_type": "markdown",
   "metadata": {},
   "source": [
    "- DataFrame 저장 (Dashboard용 Data로 활용할 예정)"
   ]
  },
  {
   "cell_type": "code",
   "execution_count": 88,
   "metadata": {},
   "outputs": [],
   "source": [
    "df6.to_csv('metadata/ADNI-Baseline-dashboard.csv', index=False)"
   ]
  },
  {
   "cell_type": "markdown",
   "metadata": {},
   "source": [
    "### 1-3. metadata EDA (plotly)"
   ]
  },
  {
   "cell_type": "markdown",
   "metadata": {},
   "source": [
    "- 깃허브 업로드를 위해 renderer를 png로 설정"
   ]
  },
  {
   "cell_type": "code",
   "execution_count": 89,
   "metadata": {},
   "outputs": [
    {
     "name": "stdout",
     "output_type": "stream",
     "text": [
      "Name: kaleido\n",
      "Version: 0.2.1\n",
      "Summary: Static image export for web-based visualization libraries with zero dependencies\n",
      "Home-page: UNKNOWN\n",
      "Author: Jon Mease\n",
      "Author-email: jon@plotly.com\n",
      "License: MIT\n",
      "Location: d:\\anaconda3_envs\\alz-mci\\lib\\site-packages\n",
      "Requires: \n",
      "Required-by: \n",
      "Note: you may need to restart the kernel to use updated packages.\n"
     ]
    }
   ],
   "source": [
    "%pip show kaleido"
   ]
  },
  {
   "cell_type": "code",
   "execution_count": 91,
   "metadata": {},
   "outputs": [
    {
     "data": {
      "text/plain": [
       "Renderers configuration\n",
       "-----------------------\n",
       "    Default renderer: 'vscode'\n",
       "    Available renderers:\n",
       "        ['plotly_mimetype', 'jupyterlab', 'nteract', 'vscode',\n",
       "         'notebook', 'notebook_connected', 'kaggle', 'azure', 'colab',\n",
       "         'cocalc', 'databricks', 'json', 'png', 'jpeg', 'jpg', 'svg',\n",
       "         'pdf', 'browser', 'firefox', 'chrome', 'chromium', 'iframe',\n",
       "         'iframe_connected', 'sphinx_gallery', 'sphinx_gallery_png']"
      ]
     },
     "execution_count": 91,
     "metadata": {},
     "output_type": "execute_result"
    }
   ],
   "source": [
    "import plotly.io as pio\n",
    "pio.renderers"
   ]
  },
  {
   "cell_type": "code",
   "execution_count": 92,
   "metadata": {},
   "outputs": [],
   "source": [
    "pio.renderers.default = 'png'"
   ]
  },
  {
   "cell_type": "markdown",
   "metadata": {},
   "source": [
    "- 데이터 불러오기"
   ]
  },
  {
   "cell_type": "code",
   "execution_count": 93,
   "metadata": {},
   "outputs": [
    {
     "name": "stdout",
     "output_type": "stream",
     "text": [
      "<class 'pandas.core.frame.DataFrame'>\n",
      "RangeIndex: 187 entries, 0 to 186\n",
      "Data columns (total 6 columns):\n",
      " #   Column     Non-Null Count  Dtype \n",
      "---  ------     --------------  ----- \n",
      " 0   ID         187 non-null    object\n",
      " 1   Gender     187 non-null    object\n",
      " 2   Group      187 non-null    object\n",
      " 3   Age        187 non-null    int64 \n",
      " 4   Age_Range  187 non-null    object\n",
      " 5   Images     187 non-null    int64 \n",
      "dtypes: int64(2), object(4)\n",
      "memory usage: 8.9+ KB\n"
     ]
    }
   ],
   "source": [
    "adni = pd.read_csv('metadata/ADNI-Baseline-dashboard.csv')\n",
    "adni.info()"
   ]
  },
  {
   "cell_type": "markdown",
   "metadata": {},
   "source": [
    "#### Research Group"
   ]
  },
  {
   "cell_type": "markdown",
   "metadata": {},
   "source": [
    "- Group by \"Research Group\" (Subjects)"
   ]
  },
  {
   "cell_type": "code",
   "execution_count": 94,
   "metadata": {},
   "outputs": [
    {
     "data": {
      "text/html": [
       "<div>\n",
       "<style scoped>\n",
       "    .dataframe tbody tr th:only-of-type {\n",
       "        vertical-align: middle;\n",
       "    }\n",
       "\n",
       "    .dataframe tbody tr th {\n",
       "        vertical-align: top;\n",
       "    }\n",
       "\n",
       "    .dataframe thead th {\n",
       "        text-align: right;\n",
       "    }\n",
       "</style>\n",
       "<table border=\"1\" class=\"dataframe\">\n",
       "  <thead>\n",
       "    <tr style=\"text-align: right;\">\n",
       "      <th></th>\n",
       "      <th>Group</th>\n",
       "      <th>ID</th>\n",
       "    </tr>\n",
       "  </thead>\n",
       "  <tbody>\n",
       "    <tr>\n",
       "      <th>0</th>\n",
       "      <td>AD</td>\n",
       "      <td>40</td>\n",
       "    </tr>\n",
       "    <tr>\n",
       "      <th>1</th>\n",
       "      <td>CN</td>\n",
       "      <td>60</td>\n",
       "    </tr>\n",
       "    <tr>\n",
       "      <th>2</th>\n",
       "      <td>MCI</td>\n",
       "      <td>87</td>\n",
       "    </tr>\n",
       "  </tbody>\n",
       "</table>\n",
       "</div>"
      ],
      "text/plain": [
       "  Group  ID\n",
       "0    AD  40\n",
       "1    CN  60\n",
       "2   MCI  87"
      ]
     },
     "execution_count": 94,
     "metadata": {},
     "output_type": "execute_result"
    }
   ],
   "source": [
    "group_count = adni.groupby(['Group'], as_index=False)['ID'].count()\n",
    "group_count"
   ]
  },
  {
   "cell_type": "code",
   "execution_count": 95,
   "metadata": {},
   "outputs": [
    {
     "data": {
      "text/html": [
       "<div>\n",
       "<style scoped>\n",
       "    .dataframe tbody tr th:only-of-type {\n",
       "        vertical-align: middle;\n",
       "    }\n",
       "\n",
       "    .dataframe tbody tr th {\n",
       "        vertical-align: top;\n",
       "    }\n",
       "\n",
       "    .dataframe thead th {\n",
       "        text-align: right;\n",
       "    }\n",
       "</style>\n",
       "<table border=\"1\" class=\"dataframe\">\n",
       "  <thead>\n",
       "    <tr style=\"text-align: right;\">\n",
       "      <th></th>\n",
       "      <th>Group</th>\n",
       "      <th>ID</th>\n",
       "    </tr>\n",
       "  </thead>\n",
       "  <tbody>\n",
       "    <tr>\n",
       "      <th>0</th>\n",
       "      <td>CN</td>\n",
       "      <td>60</td>\n",
       "    </tr>\n",
       "    <tr>\n",
       "      <th>1</th>\n",
       "      <td>MCI</td>\n",
       "      <td>87</td>\n",
       "    </tr>\n",
       "    <tr>\n",
       "      <th>2</th>\n",
       "      <td>AD</td>\n",
       "      <td>40</td>\n",
       "    </tr>\n",
       "  </tbody>\n",
       "</table>\n",
       "</div>"
      ],
      "text/plain": [
       "  Group  ID\n",
       "0    CN  60\n",
       "1   MCI  87\n",
       "2    AD  40"
      ]
     },
     "execution_count": 95,
     "metadata": {},
     "output_type": "execute_result"
    }
   ],
   "source": [
    "# reindex\n",
    "group_count_index = [1,2,0]\n",
    "group_count_sort = group_count.reindex(group_count_index, axis=0).reset_index(drop=True)\n",
    "group_count_sort"
   ]
  },
  {
   "cell_type": "code",
   "execution_count": 98,
   "metadata": {},
   "outputs": [
    {
     "data": {
      "image/png": "[encoded data removed]"
     },
     "metadata": {},
     "output_type": "display_data"
    },
    {
     "data": {
      "image/png": "[encoded data removed]"
     },
     "metadata": {},
     "output_type": "display_data"
    }
   ],
   "source": [
    "group_count_title = 'Group by \"Research Group\" (Subjects)'\n",
    "group_count_bar = plex.bar(data_frame=group_count_sort,\n",
    "                           x='Group', y='ID', color='Group',\n",
    "                           text_auto=True, title=group_count_title)\n",
    "group_count_bar.update_layout(xaxis_title='Research Group',\n",
    "                              yaxis_title='Count')\n",
    "group_count_bar.show()\n",
    "\n",
    "group_count_pie = plex.pie(data_frame=group_count_sort, hole=0.3,\n",
    "                           values='ID', names='Group', color='Group',\n",
    "                           title=group_count_title)\n",
    "group_count_pie.update_traces(textposition='inside', textinfo='percent+label')\n",
    "group_count_pie.update_layout(annotations=[dict(text='Percent', showarrow=False)])\n",
    "group_count_pie.show()"
   ]
  },
  {
   "cell_type": "markdown",
   "metadata": {},
   "source": [
    "- Group by \"Research Group\" (Images)"
   ]
  },
  {
   "cell_type": "code",
   "execution_count": 101,
   "metadata": {},
   "outputs": [
    {
     "data": {
      "text/html": [
       "<div>\n",
       "<style scoped>\n",
       "    .dataframe tbody tr th:only-of-type {\n",
       "        vertical-align: middle;\n",
       "    }\n",
       "\n",
       "    .dataframe tbody tr th {\n",
       "        vertical-align: top;\n",
       "    }\n",
       "\n",
       "    .dataframe thead th {\n",
       "        text-align: right;\n",
       "    }\n",
       "</style>\n",
       "<table border=\"1\" class=\"dataframe\">\n",
       "  <thead>\n",
       "    <tr style=\"text-align: right;\">\n",
       "      <th></th>\n",
       "      <th>Group</th>\n",
       "      <th>Images</th>\n",
       "    </tr>\n",
       "  </thead>\n",
       "  <tbody>\n",
       "    <tr>\n",
       "      <th>0</th>\n",
       "      <td>AD</td>\n",
       "      <td>1124</td>\n",
       "    </tr>\n",
       "    <tr>\n",
       "      <th>1</th>\n",
       "      <td>CN</td>\n",
       "      <td>1440</td>\n",
       "    </tr>\n",
       "    <tr>\n",
       "      <th>2</th>\n",
       "      <td>MCI</td>\n",
       "      <td>2590</td>\n",
       "    </tr>\n",
       "  </tbody>\n",
       "</table>\n",
       "</div>"
      ],
      "text/plain": [
       "  Group  Images\n",
       "0    AD    1124\n",
       "1    CN    1440\n",
       "2   MCI    2590"
      ]
     },
     "execution_count": 101,
     "metadata": {},
     "output_type": "execute_result"
    }
   ],
   "source": [
    "group_images = adni.groupby(['Group'], as_index=False)['Images'].sum()\n",
    "group_images"
   ]
  },
  {
   "cell_type": "code",
   "execution_count": 102,
   "metadata": {},
   "outputs": [
    {
     "data": {
      "text/html": [
       "<div>\n",
       "<style scoped>\n",
       "    .dataframe tbody tr th:only-of-type {\n",
       "        vertical-align: middle;\n",
       "    }\n",
       "\n",
       "    .dataframe tbody tr th {\n",
       "        vertical-align: top;\n",
       "    }\n",
       "\n",
       "    .dataframe thead th {\n",
       "        text-align: right;\n",
       "    }\n",
       "</style>\n",
       "<table border=\"1\" class=\"dataframe\">\n",
       "  <thead>\n",
       "    <tr style=\"text-align: right;\">\n",
       "      <th></th>\n",
       "      <th>Group</th>\n",
       "      <th>Images</th>\n",
       "    </tr>\n",
       "  </thead>\n",
       "  <tbody>\n",
       "    <tr>\n",
       "      <th>0</th>\n",
       "      <td>CN</td>\n",
       "      <td>1440</td>\n",
       "    </tr>\n",
       "    <tr>\n",
       "      <th>1</th>\n",
       "      <td>MCI</td>\n",
       "      <td>2590</td>\n",
       "    </tr>\n",
       "    <tr>\n",
       "      <th>2</th>\n",
       "      <td>AD</td>\n",
       "      <td>1124</td>\n",
       "    </tr>\n",
       "  </tbody>\n",
       "</table>\n",
       "</div>"
      ],
      "text/plain": [
       "  Group  Images\n",
       "0    CN    1440\n",
       "1   MCI    2590\n",
       "2    AD    1124"
      ]
     },
     "execution_count": 102,
     "metadata": {},
     "output_type": "execute_result"
    }
   ],
   "source": [
    "# reindex\n",
    "group_images_index = [1,2,0]\n",
    "group_images_sort = group_images.reindex(group_images_index, axis=0).reset_index(drop=True)\n",
    "group_images_sort"
   ]
  },
  {
   "cell_type": "code",
   "execution_count": 104,
   "metadata": {},
   "outputs": [
    {
     "data": {
      "image/png": "[encoded data removed]"
     },
     "metadata": {},
     "output_type": "display_data"
    },
    {
     "data": {
      "image/png": "[encoded data removed]"
     },
     "metadata": {},
     "output_type": "display_data"
    }
   ],
   "source": [
    "group_images_title = 'Group by \"Research Group\" (Images)'\n",
    "group_images_bar = plex.bar(data_frame=group_images_sort,\n",
    "                           x='Group', y='Images', color='Group',\n",
    "                           text_auto=True, title=group_images_title)\n",
    "group_images_bar.update_layout(xaxis_title='Research Group',\n",
    "                              yaxis_title='Count')\n",
    "group_images_bar.show()\n",
    "\n",
    "group_images_pie = plex.pie(data_frame=group_images_sort, hole=0.3,\n",
    "                           values='Images', names='Group', color='Group',\n",
    "                           title=group_images_title)\n",
    "group_images_pie.update_traces(textposition='inside', textinfo='percent+label')\n",
    "group_images_pie.update_layout(annotations=[dict(text='Percent', showarrow=False)])\n",
    "group_images_pie.show()"
   ]
  },
  {
   "cell_type": "markdown",
   "metadata": {},
   "source": [
    "- Group by \"Gender\""
   ]
  },
  {
   "cell_type": "code",
   "execution_count": 105,
   "metadata": {},
   "outputs": [
    {
     "data": {
      "text/html": [
       "<div>\n",
       "<style scoped>\n",
       "    .dataframe tbody tr th:only-of-type {\n",
       "        vertical-align: middle;\n",
       "    }\n",
       "\n",
       "    .dataframe tbody tr th {\n",
       "        vertical-align: top;\n",
       "    }\n",
       "\n",
       "    .dataframe thead th {\n",
       "        text-align: right;\n",
       "    }\n",
       "</style>\n",
       "<table border=\"1\" class=\"dataframe\">\n",
       "  <thead>\n",
       "    <tr style=\"text-align: right;\">\n",
       "      <th></th>\n",
       "      <th>Gender</th>\n",
       "      <th>ID</th>\n",
       "    </tr>\n",
       "  </thead>\n",
       "  <tbody>\n",
       "    <tr>\n",
       "      <th>0</th>\n",
       "      <td>F</td>\n",
       "      <td>96</td>\n",
       "    </tr>\n",
       "    <tr>\n",
       "      <th>1</th>\n",
       "      <td>M</td>\n",
       "      <td>91</td>\n",
       "    </tr>\n",
       "  </tbody>\n",
       "</table>\n",
       "</div>"
      ],
      "text/plain": [
       "  Gender  ID\n",
       "0      F  96\n",
       "1      M  91"
      ]
     },
     "execution_count": 105,
     "metadata": {},
     "output_type": "execute_result"
    }
   ],
   "source": [
    "group_gender = adni.groupby(['Gender'], as_index=False)['ID'].count()\n",
    "group_gender"
   ]
  },
  {
   "cell_type": "code",
   "execution_count": 106,
   "metadata": {},
   "outputs": [
    {
     "data": {
      "text/html": [
       "<div>\n",
       "<style scoped>\n",
       "    .dataframe tbody tr th:only-of-type {\n",
       "        vertical-align: middle;\n",
       "    }\n",
       "\n",
       "    .dataframe tbody tr th {\n",
       "        vertical-align: top;\n",
       "    }\n",
       "\n",
       "    .dataframe thead th {\n",
       "        text-align: right;\n",
       "    }\n",
       "</style>\n",
       "<table border=\"1\" class=\"dataframe\">\n",
       "  <thead>\n",
       "    <tr style=\"text-align: right;\">\n",
       "      <th></th>\n",
       "      <th>Gender</th>\n",
       "      <th>ID</th>\n",
       "    </tr>\n",
       "  </thead>\n",
       "  <tbody>\n",
       "    <tr>\n",
       "      <th>0</th>\n",
       "      <td>Female</td>\n",
       "      <td>96</td>\n",
       "    </tr>\n",
       "    <tr>\n",
       "      <th>1</th>\n",
       "      <td>Male</td>\n",
       "      <td>91</td>\n",
       "    </tr>\n",
       "  </tbody>\n",
       "</table>\n",
       "</div>"
      ],
      "text/plain": [
       "   Gender  ID\n",
       "0  Female  96\n",
       "1    Male  91"
      ]
     },
     "execution_count": 106,
     "metadata": {},
     "output_type": "execute_result"
    }
   ],
   "source": [
    "fix_gender = group_gender.copy()\n",
    "fix_gender.Gender = fix_gender.Gender.replace({'F':'Female', 'M':'Male'})\n",
    "fix_gender"
   ]
  },
  {
   "cell_type": "code",
   "execution_count": 107,
   "metadata": {},
   "outputs": [
    {
     "data": {
      "image/png": "[encoded data removed]"
     },
     "metadata": {},
     "output_type": "display_data"
    },
    {
     "data": {
      "image/png": "[encoded data removed]"
     },
     "metadata": {},
     "output_type": "display_data"
    }
   ],
   "source": [
    "gender_title = 'Group by \"Gender\"'\n",
    "gender_bar = plex.bar(data_frame=fix_gender, x='Gender', y='ID', color='Gender',\n",
    "                   text_auto=True,title=gender_title)\n",
    "gender_bar.update_layout(xaxis_title = 'Gender', yaxis_title = 'Count')\n",
    "gender_bar.show()\n",
    "\n",
    "gender_pie = plex.pie(data_frame=fix_gender, hole=0.3,\n",
    "                   values='ID', names='Gender', color='Gender',\n",
    "                   title=gender_title)\n",
    "gender_pie.update_traces(textposition='inside', textinfo='percent+label')\n",
    "gender_pie.update_layout(annotations=[dict(text='Percent',showarrow=False)])\n",
    "gender_pie.show()"
   ]
  },
  {
   "cell_type": "markdown",
   "metadata": {},
   "source": [
    "- Group by \"Reserch Group\" & \"Gender\""
   ]
  },
  {
   "cell_type": "code",
   "execution_count": 108,
   "metadata": {},
   "outputs": [
    {
     "data": {
      "text/html": [
       "<div>\n",
       "<style scoped>\n",
       "    .dataframe tbody tr th:only-of-type {\n",
       "        vertical-align: middle;\n",
       "    }\n",
       "\n",
       "    .dataframe tbody tr th {\n",
       "        vertical-align: top;\n",
       "    }\n",
       "\n",
       "    .dataframe thead th {\n",
       "        text-align: right;\n",
       "    }\n",
       "</style>\n",
       "<table border=\"1\" class=\"dataframe\">\n",
       "  <thead>\n",
       "    <tr style=\"text-align: right;\">\n",
       "      <th></th>\n",
       "      <th>Group</th>\n",
       "      <th>Gender</th>\n",
       "      <th>ID</th>\n",
       "    </tr>\n",
       "  </thead>\n",
       "  <tbody>\n",
       "    <tr>\n",
       "      <th>0</th>\n",
       "      <td>AD</td>\n",
       "      <td>F</td>\n",
       "      <td>25</td>\n",
       "    </tr>\n",
       "    <tr>\n",
       "      <th>1</th>\n",
       "      <td>AD</td>\n",
       "      <td>M</td>\n",
       "      <td>15</td>\n",
       "    </tr>\n",
       "    <tr>\n",
       "      <th>2</th>\n",
       "      <td>CN</td>\n",
       "      <td>F</td>\n",
       "      <td>38</td>\n",
       "    </tr>\n",
       "    <tr>\n",
       "      <th>3</th>\n",
       "      <td>CN</td>\n",
       "      <td>M</td>\n",
       "      <td>22</td>\n",
       "    </tr>\n",
       "    <tr>\n",
       "      <th>4</th>\n",
       "      <td>MCI</td>\n",
       "      <td>F</td>\n",
       "      <td>33</td>\n",
       "    </tr>\n",
       "    <tr>\n",
       "      <th>5</th>\n",
       "      <td>MCI</td>\n",
       "      <td>M</td>\n",
       "      <td>54</td>\n",
       "    </tr>\n",
       "  </tbody>\n",
       "</table>\n",
       "</div>"
      ],
      "text/plain": [
       "  Group Gender  ID\n",
       "0    AD      F  25\n",
       "1    AD      M  15\n",
       "2    CN      F  38\n",
       "3    CN      M  22\n",
       "4   MCI      F  33\n",
       "5   MCI      M  54"
      ]
     },
     "execution_count": 108,
     "metadata": {},
     "output_type": "execute_result"
    }
   ],
   "source": [
    "group_and_gender = adni.groupby(['Group','Gender'], as_index=False)['ID'].count()\n",
    "group_and_gender"
   ]
  },
  {
   "cell_type": "code",
   "execution_count": 110,
   "metadata": {},
   "outputs": [
    {
     "data": {
      "text/html": [
       "<div>\n",
       "<style scoped>\n",
       "    .dataframe tbody tr th:only-of-type {\n",
       "        vertical-align: middle;\n",
       "    }\n",
       "\n",
       "    .dataframe tbody tr th {\n",
       "        vertical-align: top;\n",
       "    }\n",
       "\n",
       "    .dataframe thead th {\n",
       "        text-align: right;\n",
       "    }\n",
       "</style>\n",
       "<table border=\"1\" class=\"dataframe\">\n",
       "  <thead>\n",
       "    <tr style=\"text-align: right;\">\n",
       "      <th></th>\n",
       "      <th>Group</th>\n",
       "      <th>Gender</th>\n",
       "      <th>Counts</th>\n",
       "    </tr>\n",
       "  </thead>\n",
       "  <tbody>\n",
       "    <tr>\n",
       "      <th>0</th>\n",
       "      <td>CN</td>\n",
       "      <td>Female</td>\n",
       "      <td>38</td>\n",
       "    </tr>\n",
       "    <tr>\n",
       "      <th>1</th>\n",
       "      <td>CN</td>\n",
       "      <td>Male</td>\n",
       "      <td>22</td>\n",
       "    </tr>\n",
       "    <tr>\n",
       "      <th>2</th>\n",
       "      <td>MCI</td>\n",
       "      <td>Female</td>\n",
       "      <td>33</td>\n",
       "    </tr>\n",
       "    <tr>\n",
       "      <th>3</th>\n",
       "      <td>MCI</td>\n",
       "      <td>Male</td>\n",
       "      <td>54</td>\n",
       "    </tr>\n",
       "    <tr>\n",
       "      <th>4</th>\n",
       "      <td>AD</td>\n",
       "      <td>Female</td>\n",
       "      <td>25</td>\n",
       "    </tr>\n",
       "    <tr>\n",
       "      <th>5</th>\n",
       "      <td>AD</td>\n",
       "      <td>Male</td>\n",
       "      <td>15</td>\n",
       "    </tr>\n",
       "  </tbody>\n",
       "</table>\n",
       "</div>"
      ],
      "text/plain": [
       "  Group  Gender  Counts\n",
       "0    CN  Female      38\n",
       "1    CN    Male      22\n",
       "2   MCI  Female      33\n",
       "3   MCI    Male      54\n",
       "4    AD  Female      25\n",
       "5    AD    Male      15"
      ]
     },
     "execution_count": 110,
     "metadata": {},
     "output_type": "execute_result"
    }
   ],
   "source": [
    "gg_list = [2,3,4,5,0,1]\n",
    "sort_gg = group_and_gender.reindex(gg_list, axis=0).reset_index(drop=True)\n",
    "fix_gg = sort_gg.copy()\n",
    "fix_gg.Gender = fix_gg.Gender.replace({'F':'Female', 'M':'Male'})\n",
    "fix_gg.columns = ['Group','Gender', 'Counts']\n",
    "fix_gg"
   ]
  },
  {
   "cell_type": "code",
   "execution_count": 111,
   "metadata": {},
   "outputs": [
    {
     "data": {
      "image/png": "[encoded data removed]"
     },
     "metadata": {},
     "output_type": "display_data"
    }
   ],
   "source": [
    "gg_bar = plex.bar(data_frame=fix_gg,\n",
    "                  x='Group',y='Counts',color='Gender',\n",
    "                  title='Group by \"Reserch Group\" & \"Gender\"',\n",
    "                  text_auto=True, barmode='group')\n",
    "gg_bar.show()"
   ]
  },
  {
   "cell_type": "markdown",
   "metadata": {},
   "source": [
    "- Histogram of \"Age\""
   ]
  },
  {
   "cell_type": "code",
   "execution_count": 112,
   "metadata": {},
   "outputs": [
    {
     "data": {
      "text/plain": [
       "(55, 91)"
      ]
     },
     "execution_count": 112,
     "metadata": {},
     "output_type": "execute_result"
    }
   ],
   "source": [
    "# 범위 확인\n",
    "np.min(adni.Age), np.max(adni.Age)"
   ]
  },
  {
   "cell_type": "code",
   "execution_count": 113,
   "metadata": {},
   "outputs": [
    {
     "data": {
      "image/png": "[encoded data removed]"
     },
     "metadata": {},
     "output_type": "display_data"
    }
   ],
   "source": [
    "age_hist = plex.histogram(data_frame=adni, x='Age', nbins=8,\n",
    "                          title='Histogram of \"Age\"',text_auto=True)\n",
    "age_hist.update_xaxes(dtick=5)\n",
    "age_hist.show()"
   ]
  },
  {
   "cell_type": "markdown",
   "metadata": {},
   "source": [
    "- Histogram of \"Age\" & \"Gender\""
   ]
  },
  {
   "cell_type": "code",
   "execution_count": 115,
   "metadata": {},
   "outputs": [
    {
     "data": {
      "image/png": "[encoded data removed]"
     },
     "metadata": {},
     "output_type": "display_data"
    }
   ],
   "source": [
    "age_male = adni.query('Gender == \"M\"')\n",
    "age_female = adni.query('Gender == \"F\"')\n",
    "\n",
    "age_overlaid = go.Figure()\n",
    "age_overlaid.add_trace(go.Histogram(x=age_male.Age, name='Male',\n",
    "                       marker_color='purple',texttemplate=\"%{y}\"))\n",
    "age_overlaid.add_trace(go.Histogram(x=age_female.Age, name='Female',\n",
    "                       marker_color='pink',texttemplate=\"%{y}\"))\n",
    "\n",
    "age_overlaid.update_layout(barmode='overlay',\n",
    "                           title_text='Histogram of \"Age\" & \"Gender\"',\n",
    "                           xaxis_title_text=\"Age\",\n",
    "                           yaxis_title_text=\"count\")\n",
    "age_overlaid.update_traces(opacity=0.75)\n",
    "age_overlaid.update_xaxes(dtick=5)\n",
    "age_overlaid.show()"
   ]
  },
  {
   "cell_type": "markdown",
   "metadata": {},
   "source": [
    "- Group by \"Age Range\""
   ]
  },
  {
   "cell_type": "code",
   "execution_count": 116,
   "metadata": {},
   "outputs": [
    {
     "data": {
      "text/html": [
       "<div>\n",
       "<style scoped>\n",
       "    .dataframe tbody tr th:only-of-type {\n",
       "        vertical-align: middle;\n",
       "    }\n",
       "\n",
       "    .dataframe tbody tr th {\n",
       "        vertical-align: top;\n",
       "    }\n",
       "\n",
       "    .dataframe thead th {\n",
       "        text-align: right;\n",
       "    }\n",
       "</style>\n",
       "<table border=\"1\" class=\"dataframe\">\n",
       "  <thead>\n",
       "    <tr style=\"text-align: right;\">\n",
       "      <th></th>\n",
       "      <th>Age_Range</th>\n",
       "      <th>Counts</th>\n",
       "    </tr>\n",
       "  </thead>\n",
       "  <tbody>\n",
       "    <tr>\n",
       "      <th>0</th>\n",
       "      <td>50s</td>\n",
       "      <td>6</td>\n",
       "    </tr>\n",
       "    <tr>\n",
       "      <th>1</th>\n",
       "      <td>60s</td>\n",
       "      <td>31</td>\n",
       "    </tr>\n",
       "    <tr>\n",
       "      <th>2</th>\n",
       "      <td>70s</td>\n",
       "      <td>107</td>\n",
       "    </tr>\n",
       "    <tr>\n",
       "      <th>3</th>\n",
       "      <td>80s</td>\n",
       "      <td>42</td>\n",
       "    </tr>\n",
       "    <tr>\n",
       "      <th>4</th>\n",
       "      <td>90s</td>\n",
       "      <td>1</td>\n",
       "    </tr>\n",
       "  </tbody>\n",
       "</table>\n",
       "</div>"
      ],
      "text/plain": [
       "  Age_Range  Counts\n",
       "0       50s       6\n",
       "1       60s      31\n",
       "2       70s     107\n",
       "3       80s      42\n",
       "4       90s       1"
      ]
     },
     "execution_count": 116,
     "metadata": {},
     "output_type": "execute_result"
    }
   ],
   "source": [
    "group_ar = adni.groupby(['Age_Range'], as_index=False)['ID'].count()\n",
    "group_ar.columns = ['Age_Range', 'Counts']\n",
    "group_ar"
   ]
  },
  {
   "cell_type": "code",
   "execution_count": 120,
   "metadata": {},
   "outputs": [
    {
     "data": {
      "image/png": "[encoded data removed]"
     },
     "metadata": {},
     "output_type": "display_data"
    },
    {
     "data": {
      "image/png": "[encoded data removed]"
     },
     "metadata": {},
     "output_type": "display_data"
    }
   ],
   "source": [
    "ar_title = 'Group by \"Age Range\"'\n",
    "ar_bar = plex.bar(data_frame=group_ar, x='Age_Range', y='Counts', color='Age_Range',\n",
    "                   text_auto=True,title=ar_title)\n",
    "ar_bar.update_layout(xaxis_title = 'Research Group', yaxis_title = 'Count')\n",
    "ar_bar.show()\n",
    "\n",
    "ar_pie = plex.pie(data_frame=group_ar, hole=0.3,\n",
    "                   values='Counts', names='Age_Range', color='Age_Range',\n",
    "                   title=ar_title)\n",
    "ar_pie.update_traces(textinfo='percent+label')\n",
    "ar_pie.update_layout(annotations=[dict(text='Percent',showarrow=False)])\n",
    "ar_pie.show()"
   ]
  },
  {
   "cell_type": "markdown",
   "metadata": {},
   "source": [
    "- Group by \"Age Range\" & \"Reserch Group\""
   ]
  },
  {
   "cell_type": "code",
   "execution_count": 121,
   "metadata": {},
   "outputs": [
    {
     "data": {
      "text/html": [
       "<div>\n",
       "<style scoped>\n",
       "    .dataframe tbody tr th:only-of-type {\n",
       "        vertical-align: middle;\n",
       "    }\n",
       "\n",
       "    .dataframe tbody tr th {\n",
       "        vertical-align: top;\n",
       "    }\n",
       "\n",
       "    .dataframe thead th {\n",
       "        text-align: right;\n",
       "    }\n",
       "</style>\n",
       "<table border=\"1\" class=\"dataframe\">\n",
       "  <thead>\n",
       "    <tr style=\"text-align: right;\">\n",
       "      <th></th>\n",
       "      <th>Age_Range</th>\n",
       "      <th>Group</th>\n",
       "      <th>ID</th>\n",
       "    </tr>\n",
       "  </thead>\n",
       "  <tbody>\n",
       "    <tr>\n",
       "      <th>0</th>\n",
       "      <td>50s</td>\n",
       "      <td>AD</td>\n",
       "      <td>2</td>\n",
       "    </tr>\n",
       "    <tr>\n",
       "      <th>1</th>\n",
       "      <td>50s</td>\n",
       "      <td>MCI</td>\n",
       "      <td>4</td>\n",
       "    </tr>\n",
       "    <tr>\n",
       "      <th>2</th>\n",
       "      <td>60s</td>\n",
       "      <td>AD</td>\n",
       "      <td>10</td>\n",
       "    </tr>\n",
       "    <tr>\n",
       "      <th>3</th>\n",
       "      <td>60s</td>\n",
       "      <td>CN</td>\n",
       "      <td>1</td>\n",
       "    </tr>\n",
       "    <tr>\n",
       "      <th>4</th>\n",
       "      <td>60s</td>\n",
       "      <td>MCI</td>\n",
       "      <td>20</td>\n",
       "    </tr>\n",
       "    <tr>\n",
       "      <th>5</th>\n",
       "      <td>70s</td>\n",
       "      <td>AD</td>\n",
       "      <td>17</td>\n",
       "    </tr>\n",
       "    <tr>\n",
       "      <th>6</th>\n",
       "      <td>70s</td>\n",
       "      <td>CN</td>\n",
       "      <td>50</td>\n",
       "    </tr>\n",
       "    <tr>\n",
       "      <th>7</th>\n",
       "      <td>70s</td>\n",
       "      <td>MCI</td>\n",
       "      <td>40</td>\n",
       "    </tr>\n",
       "    <tr>\n",
       "      <th>8</th>\n",
       "      <td>80s</td>\n",
       "      <td>AD</td>\n",
       "      <td>10</td>\n",
       "    </tr>\n",
       "    <tr>\n",
       "      <th>9</th>\n",
       "      <td>80s</td>\n",
       "      <td>CN</td>\n",
       "      <td>9</td>\n",
       "    </tr>\n",
       "    <tr>\n",
       "      <th>10</th>\n",
       "      <td>80s</td>\n",
       "      <td>MCI</td>\n",
       "      <td>23</td>\n",
       "    </tr>\n",
       "    <tr>\n",
       "      <th>11</th>\n",
       "      <td>90s</td>\n",
       "      <td>AD</td>\n",
       "      <td>1</td>\n",
       "    </tr>\n",
       "  </tbody>\n",
       "</table>\n",
       "</div>"
      ],
      "text/plain": [
       "   Age_Range Group  ID\n",
       "0        50s    AD   2\n",
       "1        50s   MCI   4\n",
       "2        60s    AD  10\n",
       "3        60s    CN   1\n",
       "4        60s   MCI  20\n",
       "5        70s    AD  17\n",
       "6        70s    CN  50\n",
       "7        70s   MCI  40\n",
       "8        80s    AD  10\n",
       "9        80s    CN   9\n",
       "10       80s   MCI  23\n",
       "11       90s    AD   1"
      ]
     },
     "execution_count": 121,
     "metadata": {},
     "output_type": "execute_result"
    }
   ],
   "source": [
    "group_ag = adni.groupby(['Age_Range','Group'], as_index=False)['ID'].count()\n",
    "group_ag"
   ]
  },
  {
   "cell_type": "code",
   "execution_count": 122,
   "metadata": {},
   "outputs": [
    {
     "data": {
      "text/html": [
       "<div>\n",
       "<style scoped>\n",
       "    .dataframe tbody tr th:only-of-type {\n",
       "        vertical-align: middle;\n",
       "    }\n",
       "\n",
       "    .dataframe tbody tr th {\n",
       "        vertical-align: top;\n",
       "    }\n",
       "\n",
       "    .dataframe thead th {\n",
       "        text-align: right;\n",
       "    }\n",
       "</style>\n",
       "<table border=\"1\" class=\"dataframe\">\n",
       "  <thead>\n",
       "    <tr style=\"text-align: right;\">\n",
       "      <th></th>\n",
       "      <th>Age_Range</th>\n",
       "      <th>Group</th>\n",
       "      <th>ID</th>\n",
       "    </tr>\n",
       "  </thead>\n",
       "  <tbody>\n",
       "    <tr>\n",
       "      <th>0</th>\n",
       "      <td>50s</td>\n",
       "      <td>AD</td>\n",
       "      <td>2</td>\n",
       "    </tr>\n",
       "    <tr>\n",
       "      <th>1</th>\n",
       "      <td>50s</td>\n",
       "      <td>MCI</td>\n",
       "      <td>4</td>\n",
       "    </tr>\n",
       "    <tr>\n",
       "      <th>2</th>\n",
       "      <td>60s</td>\n",
       "      <td>AD</td>\n",
       "      <td>10</td>\n",
       "    </tr>\n",
       "    <tr>\n",
       "      <th>3</th>\n",
       "      <td>60s</td>\n",
       "      <td>CN</td>\n",
       "      <td>1</td>\n",
       "    </tr>\n",
       "    <tr>\n",
       "      <th>4</th>\n",
       "      <td>60s</td>\n",
       "      <td>MCI</td>\n",
       "      <td>20</td>\n",
       "    </tr>\n",
       "    <tr>\n",
       "      <th>5</th>\n",
       "      <td>70s</td>\n",
       "      <td>AD</td>\n",
       "      <td>17</td>\n",
       "    </tr>\n",
       "    <tr>\n",
       "      <th>6</th>\n",
       "      <td>70s</td>\n",
       "      <td>CN</td>\n",
       "      <td>50</td>\n",
       "    </tr>\n",
       "    <tr>\n",
       "      <th>7</th>\n",
       "      <td>70s</td>\n",
       "      <td>MCI</td>\n",
       "      <td>40</td>\n",
       "    </tr>\n",
       "    <tr>\n",
       "      <th>8</th>\n",
       "      <td>80s</td>\n",
       "      <td>AD</td>\n",
       "      <td>10</td>\n",
       "    </tr>\n",
       "    <tr>\n",
       "      <th>9</th>\n",
       "      <td>80s</td>\n",
       "      <td>CN</td>\n",
       "      <td>9</td>\n",
       "    </tr>\n",
       "    <tr>\n",
       "      <th>10</th>\n",
       "      <td>80s</td>\n",
       "      <td>MCI</td>\n",
       "      <td>23</td>\n",
       "    </tr>\n",
       "    <tr>\n",
       "      <th>11</th>\n",
       "      <td>90s</td>\n",
       "      <td>AD</td>\n",
       "      <td>1</td>\n",
       "    </tr>\n",
       "    <tr>\n",
       "      <th>12</th>\n",
       "      <td>50s</td>\n",
       "      <td>CN</td>\n",
       "      <td>0</td>\n",
       "    </tr>\n",
       "  </tbody>\n",
       "</table>\n",
       "</div>"
      ],
      "text/plain": [
       "   Age_Range Group  ID\n",
       "0        50s    AD   2\n",
       "1        50s   MCI   4\n",
       "2        60s    AD  10\n",
       "3        60s    CN   1\n",
       "4        60s   MCI  20\n",
       "5        70s    AD  17\n",
       "6        70s    CN  50\n",
       "7        70s   MCI  40\n",
       "8        80s    AD  10\n",
       "9        80s    CN   9\n",
       "10       80s   MCI  23\n",
       "11       90s    AD   1\n",
       "12       50s    CN   0"
      ]
     },
     "execution_count": 122,
     "metadata": {},
     "output_type": "execute_result"
    }
   ],
   "source": [
    "# 그래프 순서를 맞추기위해 행 추가\n",
    "group_ag.loc[12] = ['50s', 'CN', 0]\n",
    "group_ag"
   ]
  },
  {
   "cell_type": "code",
   "execution_count": 123,
   "metadata": {},
   "outputs": [
    {
     "data": {
      "text/html": [
       "<div>\n",
       "<style scoped>\n",
       "    .dataframe tbody tr th:only-of-type {\n",
       "        vertical-align: middle;\n",
       "    }\n",
       "\n",
       "    .dataframe tbody tr th {\n",
       "        vertical-align: top;\n",
       "    }\n",
       "\n",
       "    .dataframe thead th {\n",
       "        text-align: right;\n",
       "    }\n",
       "</style>\n",
       "<table border=\"1\" class=\"dataframe\">\n",
       "  <thead>\n",
       "    <tr style=\"text-align: right;\">\n",
       "      <th></th>\n",
       "      <th>Age_Range</th>\n",
       "      <th>Group</th>\n",
       "      <th>Counts</th>\n",
       "    </tr>\n",
       "  </thead>\n",
       "  <tbody>\n",
       "    <tr>\n",
       "      <th>0</th>\n",
       "      <td>50s</td>\n",
       "      <td>CN</td>\n",
       "      <td>0</td>\n",
       "    </tr>\n",
       "    <tr>\n",
       "      <th>1</th>\n",
       "      <td>50s</td>\n",
       "      <td>MCI</td>\n",
       "      <td>4</td>\n",
       "    </tr>\n",
       "    <tr>\n",
       "      <th>2</th>\n",
       "      <td>50s</td>\n",
       "      <td>AD</td>\n",
       "      <td>2</td>\n",
       "    </tr>\n",
       "    <tr>\n",
       "      <th>3</th>\n",
       "      <td>60s</td>\n",
       "      <td>CN</td>\n",
       "      <td>1</td>\n",
       "    </tr>\n",
       "    <tr>\n",
       "      <th>4</th>\n",
       "      <td>60s</td>\n",
       "      <td>MCI</td>\n",
       "      <td>20</td>\n",
       "    </tr>\n",
       "    <tr>\n",
       "      <th>5</th>\n",
       "      <td>60s</td>\n",
       "      <td>AD</td>\n",
       "      <td>10</td>\n",
       "    </tr>\n",
       "    <tr>\n",
       "      <th>6</th>\n",
       "      <td>70s</td>\n",
       "      <td>CN</td>\n",
       "      <td>50</td>\n",
       "    </tr>\n",
       "    <tr>\n",
       "      <th>7</th>\n",
       "      <td>70s</td>\n",
       "      <td>MCI</td>\n",
       "      <td>40</td>\n",
       "    </tr>\n",
       "    <tr>\n",
       "      <th>8</th>\n",
       "      <td>70s</td>\n",
       "      <td>AD</td>\n",
       "      <td>17</td>\n",
       "    </tr>\n",
       "    <tr>\n",
       "      <th>9</th>\n",
       "      <td>80s</td>\n",
       "      <td>CN</td>\n",
       "      <td>9</td>\n",
       "    </tr>\n",
       "    <tr>\n",
       "      <th>10</th>\n",
       "      <td>80s</td>\n",
       "      <td>MCI</td>\n",
       "      <td>23</td>\n",
       "    </tr>\n",
       "    <tr>\n",
       "      <th>11</th>\n",
       "      <td>80s</td>\n",
       "      <td>AD</td>\n",
       "      <td>10</td>\n",
       "    </tr>\n",
       "    <tr>\n",
       "      <th>12</th>\n",
       "      <td>90s</td>\n",
       "      <td>AD</td>\n",
       "      <td>1</td>\n",
       "    </tr>\n",
       "  </tbody>\n",
       "</table>\n",
       "</div>"
      ],
      "text/plain": [
       "   Age_Range Group  Counts\n",
       "0        50s    CN       0\n",
       "1        50s   MCI       4\n",
       "2        50s    AD       2\n",
       "3        60s    CN       1\n",
       "4        60s   MCI      20\n",
       "5        60s    AD      10\n",
       "6        70s    CN      50\n",
       "7        70s   MCI      40\n",
       "8        70s    AD      17\n",
       "9        80s    CN       9\n",
       "10       80s   MCI      23\n",
       "11       80s    AD      10\n",
       "12       90s    AD       1"
      ]
     },
     "execution_count": 123,
     "metadata": {},
     "output_type": "execute_result"
    }
   ],
   "source": [
    "# reindex\n",
    "ag_list = [12,1,0,3,4,2,6,7,5,9,10,8,11]\n",
    "sort_ag = group_ag.reindex(ag_list, axis=0).reset_index(drop=True)\n",
    "sort_ag.columns = ['Age_Range', 'Group', 'Counts']\n",
    "sort_ag"
   ]
  },
  {
   "cell_type": "code",
   "execution_count": 124,
   "metadata": {},
   "outputs": [
    {
     "data": {
      "image/png": "[encoded data removed]"
     },
     "metadata": {},
     "output_type": "display_data"
    }
   ],
   "source": [
    "ag_bar = plex.bar(data_frame=sort_ag,\n",
    "                  x='Age_Range',y='Counts',color='Group',\n",
    "                  title='Group by \"Age Range\" & \"Reserch Group\"',\n",
    "                  text_auto=True,barmode='group')\n",
    "ag_bar.show()"
   ]
  },
  {
   "cell_type": "markdown",
   "metadata": {},
   "source": [
    "## Part2 ~"
   ]
  },
  {
   "cell_type": "markdown",
   "metadata": {},
   "source": [
    "- 이후 모델링 및 하이퍼파라미터 튜닝은 Google Colab을 통해 진행하였음.\n",
    "  - 이유1 : 텐서플로우 모델링을 진행하기엔 로컬 GPU가 견디지 못함... (GTX1050)\n",
    "  - 이유2 : 로컬 세팅의 텐서플로우 버젼(2.7)에서는 SEED가 제대로 고정되지 못하는 이슈가 있음"
   ]
  },
  {
   "cell_type": "markdown",
   "metadata": {},
   "source": [
    "- Part2. 모델링 및 하이퍼파라미터 튜닝\n",
    "  - Colab을 통해 모델링 후 모델을 hdf5 파일로 부호화(인코딩)하여 로컬에 다운로드\n",
    "- Part3. 최종모델 학습 및 모델 성능 비교분석 및 시각화\n",
    "  - 로컬에서 hdf5 파일을 복호화(디코딩)하여 로컬에서 진행"
   ]
  }
 ],
 "metadata": {
  "kernelspec": {
   "display_name": "Python 3.9.15 ('Alz-MCI')",
   "language": "python",
   "name": "python3"
  },
  "language_info": {
   "codemirror_mode": {
    "name": "ipython",
    "version": 3
   },
   "file_extension": ".py",
   "mimetype": "text/x-python",
   "name": "python",
   "nbconvert_exporter": "python",
   "pygments_lexer": "ipython3",
   "version": "3.9.15"
  },
  "orig_nbformat": 4,
  "vscode": {
   "interpreter": {
    "hash": "e1400d55ab6c665e391f73ab737909fea3407321017159d76dd1c65c15fdf28f"
   }
  }
 },
 "nbformat": 4,
 "nbformat_minor": 2
}
